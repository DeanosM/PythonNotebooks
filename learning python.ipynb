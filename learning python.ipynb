{
 "cells": [
  {
   "cell_type": "code",
   "execution_count": 1,
   "metadata": {
    "collapsed": true
   },
   "outputs": [],
   "source": [
    "import numpy\n"
   ]
  },
  {
   "cell_type": "code",
   "execution_count": 2,
   "metadata": {},
   "outputs": [
    {
     "data": {
      "text/plain": [
       "array([[ 0.,  0.,  1., ...,  3.,  0.,  0.],\n",
       "       [ 0.,  1.,  2., ...,  1.,  0.,  1.],\n",
       "       [ 0.,  1.,  1., ...,  2.,  1.,  1.],\n",
       "       ..., \n",
       "       [ 0.,  1.,  1., ...,  1.,  1.,  1.],\n",
       "       [ 0.,  0.,  0., ...,  0.,  2.,  0.],\n",
       "       [ 0.,  0.,  1., ...,  1.,  1.,  0.]])"
      ]
     },
     "execution_count": 2,
     "metadata": {},
     "output_type": "execute_result"
    }
   ],
   "source": [
    "numpy.loadtxt(fname='inflammation-01.csv', delimiter=',')"
   ]
  },
  {
   "cell_type": "code",
   "execution_count": 3,
   "metadata": {
    "collapsed": true
   },
   "outputs": [],
   "source": [
    "data = numpy.loadtxt(fname='inflammation-01.csv', delimiter=',')"
   ]
  },
  {
   "cell_type": "code",
   "execution_count": 4,
   "metadata": {},
   "outputs": [
    {
     "name": "stdout",
     "output_type": "stream",
     "text": [
      "[[ 0.  0.  1. ...,  3.  0.  0.]\n",
      " [ 0.  1.  2. ...,  1.  0.  1.]\n",
      " [ 0.  1.  1. ...,  2.  1.  1.]\n",
      " ..., \n",
      " [ 0.  1.  1. ...,  1.  1.  1.]\n",
      " [ 0.  0.  0. ...,  0.  2.  0.]\n",
      " [ 0.  0.  1. ...,  1.  1.  0.]]\n"
     ]
    }
   ],
   "source": [
    "print(data)"
   ]
  },
  {
   "cell_type": "code",
   "execution_count": 5,
   "metadata": {},
   "outputs": [
    {
     "name": "stdout",
     "output_type": "stream",
     "text": [
      "<class 'numpy.ndarray'>\n"
     ]
    }
   ],
   "source": [
    "print(type(data))"
   ]
  },
  {
   "cell_type": "code",
   "execution_count": 6,
   "metadata": {},
   "outputs": [
    {
     "name": "stdout",
     "output_type": "stream",
     "text": [
      "float64\n"
     ]
    }
   ],
   "source": [
    "print(data.dtype)\n"
   ]
  },
  {
   "cell_type": "code",
   "execution_count": 7,
   "metadata": {},
   "outputs": [
    {
     "name": "stdout",
     "output_type": "stream",
     "text": [
      "(60, 40)\n"
     ]
    }
   ],
   "source": [
    "print(data.shape)"
   ]
  },
  {
   "cell_type": "code",
   "execution_count": 8,
   "metadata": {},
   "outputs": [
    {
     "name": "stdout",
     "output_type": "stream",
     "text": [
      "first value in data:  0.0\n"
     ]
    }
   ],
   "source": [
    "print('first value in data: ',data[0,0])"
   ]
  },
  {
   "cell_type": "code",
   "execution_count": 9,
   "metadata": {},
   "outputs": [
    {
     "name": "stdout",
     "output_type": "stream",
     "text": [
      "middle value in data:  13.0\n"
     ]
    }
   ],
   "source": [
    "print('middle value in data: ',data[30,20\n",
    "                                   ])"
   ]
  },
  {
   "cell_type": "code",
   "execution_count": 10,
   "metadata": {},
   "outputs": [
    {
     "name": "stdout",
     "output_type": "stream",
     "text": [
      "[[ 0.  0.  1.  3.  1.  2.  4.  7.  8.  3.]\n",
      " [ 0.  1.  2.  1.  2.  1.  3.  2.  2.  6.]\n",
      " [ 0.  1.  1.  3.  3.  2.  6.  2.  5.  9.]\n",
      " [ 0.  0.  2.  0.  4.  2.  2.  1.  6.  7.]]\n"
     ]
    }
   ],
   "source": [
    "print(data[0:4, 0:10]\n",
    "     )"
   ]
  },
  {
   "cell_type": "code",
   "execution_count": 12,
   "metadata": {},
   "outputs": [
    {
     "name": "stdout",
     "output_type": "stream",
     "text": [
      "[[ 0.  0.  1.  2.  2.  4.  2.  1.  6.  4.]\n",
      " [ 0.  0.  2.  2.  4.  2.  2.  5.  5.  8.]\n",
      " [ 0.  0.  1.  2.  3.  1.  2.  3.  5.  3.]\n",
      " [ 0.  0.  0.  3.  1.  5.  6.  5.  5.  8.]\n",
      " [ 0.  1.  1.  2.  1.  3.  5.  3.  5.  8.]]\n"
     ]
    }
   ],
   "source": [
    "print(data[5:10, 0:10])\n"
   ]
  },
  {
   "cell_type": "code",
   "execution_count": 13,
   "metadata": {},
   "outputs": [
    {
     "name": "stdout",
     "output_type": "stream",
     "text": [
      "small is:\n",
      "[[ 2.  3.  0.  0.]\n",
      " [ 1.  1.  0.  1.]\n",
      " [ 2.  2.  1.  1.]]\n"
     ]
    }
   ],
   "source": [
    "small = data[:3, 36:]\n",
    "print('small is:')\n",
    "print(small)"
   ]
  },
  {
   "cell_type": "code",
   "execution_count": 14,
   "metadata": {
    "collapsed": true
   },
   "outputs": [],
   "source": [
    "doubledata = data * 2.0"
   ]
  },
  {
   "cell_type": "code",
   "execution_count": 15,
   "metadata": {},
   "outputs": [
    {
     "name": "stdout",
     "output_type": "stream",
     "text": [
      "original:\n",
      "[[ 2.  3.  0.  0.]\n",
      " [ 1.  1.  0.  1.]\n",
      " [ 2.  2.  1.  1.]]\n",
      "doubledata: \n",
      "[[ 4.  6.  0.  0.]\n",
      " [ 2.  2.  0.  2.]\n",
      " [ 4.  4.  2.  2.]]\n"
     ]
    }
   ],
   "source": [
    "print('original:')\n",
    "print(data[:3,36:])\n",
    "print('doubledata: ')\n",
    "print(doubledata[:3,36:])"
   ]
  },
  {
   "cell_type": "code",
   "execution_count": 16,
   "metadata": {
    "collapsed": true
   },
   "outputs": [],
   "source": [
    "tripledata = doubledata + data"
   ]
  },
  {
   "cell_type": "code",
   "execution_count": 17,
   "metadata": {},
   "outputs": [
    {
     "name": "stdout",
     "output_type": "stream",
     "text": [
      "tripledata: \n",
      "[[ 6.  9.  0.  0.]\n",
      " [ 3.  3.  0.  3.]\n",
      " [ 6.  6.  3.  3.]]\n"
     ]
    }
   ],
   "source": [
    "print('tripledata: ')\n",
    "print(tripledata[:3,36:])"
   ]
  },
  {
   "cell_type": "code",
   "execution_count": 18,
   "metadata": {},
   "outputs": [
    {
     "name": "stdout",
     "output_type": "stream",
     "text": [
      "6.14875\n"
     ]
    }
   ],
   "source": [
    "print(numpy.mean(data))"
   ]
  },
  {
   "cell_type": "code",
   "execution_count": 19,
   "metadata": {},
   "outputs": [
    {
     "name": "stdout",
     "output_type": "stream",
     "text": [
      "Mon Oct  2 11:23:05 2017\n"
     ]
    }
   ],
   "source": [
    "import time\n",
    "print(time.ctime())"
   ]
  },
  {
   "cell_type": "code",
   "execution_count": 21,
   "metadata": {},
   "outputs": [
    {
     "name": "stdout",
     "output_type": "stream",
     "text": [
      "maximum inflammation:  20.0\n",
      "minimum inflammation:  0.0\n",
      "standard deviation  4.61383319712\n"
     ]
    }
   ],
   "source": [
    "maxval, minval, stdval = numpy.max(data), numpy.min(data), numpy.std(data)\n",
    "print('maximum inflammation: ', maxval)\n",
    "print('minimum inflammation: ', minval)\n",
    "print('standard deviation ', stdval)"
   ]
  },
  {
   "cell_type": "code",
   "execution_count": 22,
   "metadata": {
    "collapsed": true
   },
   "outputs": [],
   "source": [
    "numpy.cumprod?"
   ]
  },
  {
   "cell_type": "code",
   "execution_count": 23,
   "metadata": {},
   "outputs": [
    {
     "name": "stdout",
     "output_type": "stream",
     "text": [
      "maximum inflammation for patient 0:  18.0\n"
     ]
    }
   ],
   "source": [
    "patient_0 =  data[0, :] # 0 on the first axis (rows), everything on the second columns\n",
    "print('maximum inflammation for patient 0: ', patient_0.max())"
   ]
  },
  {
   "cell_type": "code",
   "execution_count": 24,
   "metadata": {},
   "outputs": [
    {
     "name": "stdout",
     "output_type": "stream",
     "text": [
      "maximum inflammation for patient 2:  19.0\n"
     ]
    }
   ],
   "source": [
    "print('maximum inflammation for patient 2: ', numpy.max(data[2, :]))"
   ]
  },
  {
   "cell_type": "code",
   "execution_count": 25,
   "metadata": {},
   "outputs": [
    {
     "name": "stdout",
     "output_type": "stream",
     "text": [
      "[  0.           0.45         1.11666667   1.75         2.43333333   3.15\n",
      "   3.8          3.88333333   5.23333333   5.51666667   5.95         5.9\n",
      "   8.35         7.73333333   8.36666667   9.5          9.58333333\n",
      "  10.63333333  11.56666667  12.35        13.25        11.96666667\n",
      "  11.03333333  10.16666667  10.           8.66666667   9.15         7.25\n",
      "   7.33333333   6.58333333   6.06666667   5.95         5.11666667   3.6\n",
      "   3.3          3.56666667   2.48333333   1.5          1.13333333\n",
      "   0.56666667]\n"
     ]
    }
   ],
   "source": [
    "print(numpy.mean(data, axis=0))"
   ]
  },
  {
   "cell_type": "code",
   "execution_count": 26,
   "metadata": {},
   "outputs": [
    {
     "name": "stdout",
     "output_type": "stream",
     "text": [
      "(40,)\n"
     ]
    }
   ],
   "source": [
    "print(numpy.mean(data,axis=0).shape)"
   ]
  },
  {
   "cell_type": "code",
   "execution_count": 27,
   "metadata": {},
   "outputs": [
    {
     "name": "stdout",
     "output_type": "stream",
     "text": [
      "[ 5.45   5.425  6.1    5.9    5.55   6.225  5.975  6.65   6.625  6.525\n",
      "  6.775  5.8    6.225  5.75   5.225  6.3    6.55   5.7    5.85   6.55\n",
      "  5.775  5.825  6.175  6.1    5.8    6.425  6.05   6.025  6.175  6.55\n",
      "  6.175  6.35   6.725  6.125  7.075  5.725  5.925  6.15   6.075  5.75\n",
      "  5.975  5.725  6.3    5.9    6.75   5.925  7.225  6.15   5.95   6.275  5.7\n",
      "  6.1    6.825  5.975  6.725  5.7    6.25   6.4    7.05   5.9  ]\n"
     ]
    }
   ],
   "source": [
    "print(numpy.mean(data,axis=1))"
   ]
  },
  {
   "cell_type": "code",
   "execution_count": 32,
   "metadata": {},
   "outputs": [
    {
     "data": {
      "image/png": "[encoded data removed]",
      "text/plain": [
       "<matplotlib.figure.Figure at 0x7c2a6a0>"
      ]
     },
     "metadata": {},
     "output_type": "display_data"
    }
   ],
   "source": [
    "import matplotlib.pyplot\n",
    "image = matplotlib.pyplot.imshow(data)\n",
    "matplotlib.pyplot.show()"
   ]
  },
  {
   "cell_type": "code",
   "execution_count": 33,
   "metadata": {
    "collapsed": true
   },
   "outputs": [],
   "source": [
    "%matplotlib inline"
   ]
  },
  {
   "cell_type": "code",
   "execution_count": 34,
   "metadata": {},
   "outputs": [
    {
     "data": {
      "image/png": "[encoded data removed]",
      "text/plain": [
       "<matplotlib.figure.Figure at 0x84685f8>"
      ]
     },
     "metadata": {},
     "output_type": "display_data"
    }
   ],
   "source": [
    "ave_inflammation = numpy.mean(data, axis=0)\n",
    "ave_plot = matplotlib.pyplot.plot(ave_inflammation)\n",
    "matplotlib.pyplot.show()"
   ]
  },
  {
   "cell_type": "code",
   "execution_count": 35,
   "metadata": {},
   "outputs": [
    {
     "data": {
      "image/png": "[encoded data removed]",
      "text/plain": [
       "<matplotlib.figure.Figure at 0x9e255f8>"
      ]
     },
     "metadata": {},
     "output_type": "display_data"
    }
   ],
   "source": [
    "min_plot = matplotlib.pyplot.plot(numpy.min(data,axis=0))\n",
    "matplotlib.pyplot.show()"
   ]
  },
  {
   "cell_type": "code",
   "execution_count": 41,
   "metadata": {},
   "outputs": [
    {
     "data": {
      "image/png": "[encoded data removed]",
      "text/plain": [
       "<matplotlib.figure.Figure at 0x9f5a4a8>"
      ]
     },
     "metadata": {},
     "output_type": "display_data"
    }
   ],
   "source": [
    "import numpy\n",
    "import matplotlib.pyplot\n",
    "data = numpy.loadtxt(fname='inflammation-01.csv', delimiter=',')\n",
    "\n",
    "fig = matplotlib.pyplot.figure(figsize= (10.0, 3.0))\n",
    "\n",
    "axes1 = fig.add_subplot(1,3,1)\n",
    "axes2 = fig.add_subplot(1,3,2)\n",
    "axes3 = fig.add_subplot(1,3,3)\n",
    "\n",
    "axes1.set_ylabel('average')\n",
    "axes1.plot(numpy.mean(data, axis=0))\n",
    "\n",
    "axes2.set_ylabel('max')\n",
    "axes2.plot(numpy.max(data, axis=0))\n",
    "\n",
    "\n",
    "axes3.set_ylabel('min')\n",
    "axes3.plot(numpy.min(data, axis=0))\n",
    "\n",
    "fig.tight_layout()\n",
    "\n",
    "matplotlib.pyplot.show()"
   ]
  },
  {
   "cell_type": "code",
   "execution_count": 42,
   "metadata": {
    "collapsed": true
   },
   "outputs": [],
   "source": [
    "first, second = 'Grace', 'Hopper'"
   ]
  },
  {
   "cell_type": "code",
   "execution_count": 52,
   "metadata": {},
   "outputs": [
    {
     "name": "stdout",
     "output_type": "stream",
     "text": [
      "Hopper Grace\n"
     ]
    }
   ],
   "source": [
    "third,fourth = second,first\n",
    "print(third,fourth)"
   ]
  },
  {
   "cell_type": "code",
   "execution_count": 50,
   "metadata": {},
   "outputs": [
    {
     "name": "stdout",
     "output_type": "stream",
     "text": [
      "first three characters: y\n"
     ]
    }
   ],
   "source": [
    "element = 'oxygen'\n",
    "print('first three characters:', element[2])\n"
   ]
  },
  {
   "cell_type": "code",
   "execution_count": 53,
   "metadata": {},
   "outputs": [
    {
     "name": "stdout",
     "output_type": "stream",
     "text": [
      "A = \n",
      "[[1 2 3]\n",
      " [4 5 6]\n",
      " [7 8 9]]\n"
     ]
    }
   ],
   "source": [
    "import numpy\n",
    "\n",
    "A = numpy.array([[1,2,3], [4,5,6], [7, 8, 9]])\n",
    "print('A = ')\n",
    "print(A)"
   ]
  },
  {
   "cell_type": "code",
   "execution_count": 55,
   "metadata": {},
   "outputs": [
    {
     "name": "stdout",
     "output_type": "stream",
     "text": [
      "B = \n",
      "[[1 2 3]\n",
      " [4 5 6]\n",
      " [7 8 9]\n",
      " [1 2 3]\n",
      " [4 5 6]\n",
      " [7 8 9]]\n"
     ]
    }
   ],
   "source": [
    "b = numpy.vstack([A,A])\n",
    "print('B = ')\n",
    "print(b)\n"
   ]
  },
  {
   "cell_type": "code",
   "execution_count": 56,
   "metadata": {
    "collapsed": true
   },
   "outputs": [],
   "source": [
    "numpy.bool?\n"
   ]
  },
  {
   "cell_type": "code",
   "execution_count": 70,
   "metadata": {},
   "outputs": [
    {
     "name": "stdout",
     "output_type": "stream",
     "text": [
      "o\n",
      "x\n",
      "y\n",
      "g\n",
      "e\n",
      "n\n"
     ]
    }
   ],
   "source": [
    "word = 'oxygen'\n",
    "for char in word:\n",
    " print(char)"
   ]
  },
  {
   "cell_type": "code",
   "execution_count": 73,
   "metadata": {},
   "outputs": [
    {
     "name": "stdout",
     "output_type": "stream",
     "text": [
      "oxygen\n",
      "nitrogen\n",
      "argon\n"
     ]
    }
   ],
   "source": [
    "elements = ['oxygen', 'nitrogen', 'argon']\n",
    "for char in elements:\n",
    "  print(char)"
   ]
  },
  {
   "cell_type": "code",
   "execution_count": 204,
   "metadata": {},
   "outputs": [
    {
     "name": "stdout",
     "output_type": "stream",
     "text": [
      "o\n",
      "x\n",
      "y\n",
      "g\n",
      "e\n",
      "n\n"
     ]
    }
   ],
   "source": [
    "word = 'oxygen'\n",
    "for banana in word:    \n",
    " print(banana)"
   ]
  },
  {
   "cell_type": "code",
   "execution_count": 83,
   "metadata": {},
   "outputs": [
    {
     "name": "stdout",
     "output_type": "stream",
     "text": [
      "There are 5 vowels\n"
     ]
    }
   ],
   "source": [
    "length = 0\n",
    "for vowel in 'aeiou':\n",
    " length = length + 1\n",
    "print('There are' , length, 'vowels')"
   ]
  },
  {
   "cell_type": "code",
   "execution_count": 85,
   "metadata": {},
   "outputs": [
    {
     "name": "stdout",
     "output_type": "stream",
     "text": [
      "a\n",
      "b\n",
      "c\n",
      "after the loop, the letter is c\n"
     ]
    }
   ],
   "source": [
    "letter = 'z'\n",
    "for letter in 'abc':\n",
    "    print(letter)\n",
    "print('after the loop, the letter is', letter)"
   ]
  },
  {
   "cell_type": "code",
   "execution_count": 86,
   "metadata": {},
   "outputs": [
    {
     "name": "stdout",
     "output_type": "stream",
     "text": [
      "5\n"
     ]
    }
   ],
   "source": [
    "print(len('aeiou'))"
   ]
  },
  {
   "cell_type": "code",
   "execution_count": 98,
   "metadata": {
    "scrolled": true
   },
   "outputs": [
    {
     "name": "stdout",
     "output_type": "stream",
     "text": [
      "1\n",
      "2\n",
      "3\n"
     ]
    }
   ],
   "source": [
    "for i in range(1,4):\n",
    "    print(i)"
   ]
  },
  {
   "cell_type": "code",
   "execution_count": 99,
   "metadata": {},
   "outputs": [
    {
     "name": "stdout",
     "output_type": "stream",
     "text": [
      "125\n"
     ]
    }
   ],
   "source": [
    "print(5 ** 3)"
   ]
  },
  {
   "cell_type": "code",
   "execution_count": 103,
   "metadata": {},
   "outputs": [
    {
     "name": "stdout",
     "output_type": "stream",
     "text": [
      "1\n",
      "21\n",
      "321\n",
      "4321\n",
      "54321\n",
      "654321\n",
      "7654321\n"
     ]
    }
   ],
   "source": [
    "newstring = ''\n",
    "oldstring = '1234567'\n",
    "for char in oldstring:\n",
    "    newstring = char + newstring\n",
    "    print(newstring)\n",
    "    #effvtrgh78juj"
   ]
  },
  {
   "cell_type": "code",
   "execution_count": 110,
   "metadata": {
    "collapsed": true
   },
   "outputs": [],
   "source": [
    "enumerate?"
   ]
  },
  {
   "cell_type": "code",
   "execution_count": 111,
   "metadata": {},
   "outputs": [
    {
     "name": "stdout",
     "output_type": "stream",
     "text": [
      "[(0, 2), (1, 4), (2, 3)]\n"
     ]
    }
   ],
   "source": [
    "x = 5\n",
    "cc = [2, 4, 3]\n",
    "print(list(enumerate(cc)))"
   ]
  },
  {
   "cell_type": "code",
   "execution_count": 112,
   "metadata": {},
   "outputs": [
    {
     "name": "stdout",
     "output_type": "stream",
     "text": [
      "0 2\n",
      "1 4\n",
      "2 3\n"
     ]
    }
   ],
   "source": [
    "for i, c in enumerate(cc):\n",
    "    print(i, c)"
   ]
  },
  {
   "cell_type": "code",
   "execution_count": 115,
   "metadata": {
    "collapsed": true
   },
   "outputs": [],
   "source": [
    "import pandas"
   ]
  },
  {
   "cell_type": "code",
   "execution_count": 119,
   "metadata": {},
   "outputs": [
    {
     "data": {
      "text/html": [
       "<div>\n",
       "<style>\n",
       "    .dataframe thead tr:only-child th {\n",
       "        text-align: right;\n",
       "    }\n",
       "\n",
       "    .dataframe thead th {\n",
       "        text-align: left;\n",
       "    }\n",
       "\n",
       "    .dataframe tbody tr th {\n",
       "        vertical-align: top;\n",
       "    }\n",
       "</style>\n",
       "<table border=\"1\" class=\"dataframe\">\n",
       "  <thead>\n",
       "    <tr style=\"text-align: right;\">\n",
       "      <th></th>\n",
       "      <th>Year</th>\n",
       "      <th>Students language background other than English-Speak mainly English at home</th>\n",
       "      <th>Students language background other than English-Does not speak mainly English at home</th>\n",
       "      <th>Total students language background other than English</th>\n",
       "    </tr>\n",
       "  </thead>\n",
       "  <tbody>\n",
       "    <tr>\n",
       "      <th>0</th>\n",
       "      <td>2007</td>\n",
       "      <td>33423</td>\n",
       "      <td>79801</td>\n",
       "      <td>113224</td>\n",
       "    </tr>\n",
       "    <tr>\n",
       "      <th>1</th>\n",
       "      <td>2008</td>\n",
       "      <td>35539</td>\n",
       "      <td>82800</td>\n",
       "      <td>118339</td>\n",
       "    </tr>\n",
       "    <tr>\n",
       "      <th>2</th>\n",
       "      <td>2009</td>\n",
       "      <td>37414</td>\n",
       "      <td>86089</td>\n",
       "      <td>123503</td>\n",
       "    </tr>\n",
       "    <tr>\n",
       "      <th>3</th>\n",
       "      <td>2010</td>\n",
       "      <td>39007</td>\n",
       "      <td>88968</td>\n",
       "      <td>127975</td>\n",
       "    </tr>\n",
       "    <tr>\n",
       "      <th>4</th>\n",
       "      <td>2011</td>\n",
       "      <td>40958</td>\n",
       "      <td>91686</td>\n",
       "      <td>132644</td>\n",
       "    </tr>\n",
       "    <tr>\n",
       "      <th>5</th>\n",
       "      <td>2012</td>\n",
       "      <td>43545</td>\n",
       "      <td>94760</td>\n",
       "      <td>138305</td>\n",
       "    </tr>\n",
       "    <tr>\n",
       "      <th>6</th>\n",
       "      <td>2013</td>\n",
       "      <td>46141</td>\n",
       "      <td>99228</td>\n",
       "      <td>145369</td>\n",
       "    </tr>\n",
       "    <tr>\n",
       "      <th>7</th>\n",
       "      <td>2014</td>\n",
       "      <td>48961</td>\n",
       "      <td>104266</td>\n",
       "      <td>153227</td>\n",
       "    </tr>\n",
       "    <tr>\n",
       "      <th>8</th>\n",
       "      <td>2015</td>\n",
       "      <td>52357</td>\n",
       "      <td>109344</td>\n",
       "      <td>161701</td>\n",
       "    </tr>\n",
       "    <tr>\n",
       "      <th>9</th>\n",
       "      <td>2016</td>\n",
       "      <td>56409</td>\n",
       "      <td>115927</td>\n",
       "      <td>172336</td>\n",
       "    </tr>\n",
       "  </tbody>\n",
       "</table>\n",
       "</div>"
      ],
      "text/plain": [
       "   Year  \\\n",
       "0  2007   \n",
       "1  2008   \n",
       "2  2009   \n",
       "3  2010   \n",
       "4  2011   \n",
       "5  2012   \n",
       "6  2013   \n",
       "7  2014   \n",
       "8  2015   \n",
       "9  2016   \n",
       "\n",
       "   Students language background other than English-Speak mainly English at home  \\\n",
       "0                                              33423                              \n",
       "1                                              35539                              \n",
       "2                                              37414                              \n",
       "3                                              39007                              \n",
       "4                                              40958                              \n",
       "5                                              43545                              \n",
       "6                                              46141                              \n",
       "7                                              48961                              \n",
       "8                                              52357                              \n",
       "9                                              56409                              \n",
       "\n",
       "   Students language background other than English-Does not speak mainly English at home  \\\n",
       "0                                              79801                                       \n",
       "1                                              82800                                       \n",
       "2                                              86089                                       \n",
       "3                                              88968                                       \n",
       "4                                              91686                                       \n",
       "5                                              94760                                       \n",
       "6                                              99228                                       \n",
       "7                                             104266                                       \n",
       "8                                             109344                                       \n",
       "9                                             115927                                       \n",
       "\n",
       "   Total students language background other than English  \n",
       "0                                             113224      \n",
       "1                                             118339      \n",
       "2                                             123503      \n",
       "3                                             127975      \n",
       "4                                             132644      \n",
       "5                                             138305      \n",
       "6                                             145369      \n",
       "7                                             153227      \n",
       "8                                             161701      \n",
       "9                                             172336      "
      ]
     },
     "execution_count": 119,
     "metadata": {},
     "output_type": "execute_result"
    }
   ],
   "source": [
    "# data = numpy.loadtxt(fname='Lbote.csv', delimiter=',',skiprows=1)\n",
    "\n",
    "data = pandas.read_csv('Lbote.csv', thousands=',')\n",
    "data"
   ]
  },
  {
   "cell_type": "code",
   "execution_count": 292,
   "metadata": {},
   "outputs": [
    {
     "ename": "AttributeError",
     "evalue": "'numpy.ndarray' object has no attribute 'dtypes'",
     "output_type": "error",
     "traceback": [
      "\u001b[1;31m---------------------------------------------------------------------------\u001b[0m",
      "\u001b[1;31mAttributeError\u001b[0m                            Traceback (most recent call last)",
      "\u001b[1;32m<ipython-input-292-2e73fc541fac>\u001b[0m in \u001b[0;36m<module>\u001b[1;34m()\u001b[0m\n\u001b[1;32m----> 1\u001b[1;33m \u001b[0mdata\u001b[0m\u001b[1;33m.\u001b[0m\u001b[0mdtypes\u001b[0m\u001b[1;33m\u001b[0m\u001b[0m\n\u001b[0m\u001b[0;32m      2\u001b[0m \u001b[0mdata\u001b[0m \u001b[1;33m=\u001b[0m \u001b[0mdata\u001b[0m\u001b[1;33m.\u001b[0m\u001b[0mas_matrix\u001b[0m\u001b[1;33m(\u001b[0m\u001b[1;33m)\u001b[0m\u001b[1;33m\u001b[0m\u001b[0m\n\u001b[0;32m      3\u001b[0m \u001b[0mdata\u001b[0m\u001b[1;33m\u001b[0m\u001b[0m\n",
      "\u001b[1;31mAttributeError\u001b[0m: 'numpy.ndarray' object has no attribute 'dtypes'"
     ]
    }
   ],
   "source": [
    "data.dtypes\n",
    "data = data.as_matrix()\n",
    "data"
   ]
  },
  {
   "cell_type": "code",
   "execution_count": 164,
   "metadata": {},
   "outputs": [
    {
     "name": "stdout",
     "output_type": "stream",
     "text": [
      "[2007 2008 2009 2010 2011 2012 2013 2014 2015 2016] [ 79801  82800  86089  88968  91686  94760  99228 104266 109344 115927] [33423 35539 37414 39007 40958 43545 46141 48961 52357 56409] [113224 118339 123503 127975 132644 138305 145369 153227 161701 172336]\n"
     ]
    }
   ],
   "source": [
    "years = data[:, 0]\n",
    "LBOTE_English_home = data[:, 1]\n",
    "LBOTE_NotEnglish_home = data[:, 2]\n",
    "total_students = data[:, 3]\n",
    "print(years,LBOTE_NotEnglish_home, LBOTE_English_home, total_students)"
   ]
  },
  {
   "cell_type": "code",
   "execution_count": 185,
   "metadata": {
    "collapsed": true
   },
   "outputs": [],
   "source": [
    "not_percent = LBOTE_NotEnglish_home / total_students\n",
    "not_percent = not_percent * 100"
   ]
  },
  {
   "cell_type": "code",
   "execution_count": 184,
   "metadata": {
    "collapsed": true
   },
   "outputs": [],
   "source": [
    "percent = LBOTE_English_home / total_students\n",
    "percent = percent * 100"
   ]
  },
  {
   "cell_type": "code",
   "execution_count": 176,
   "metadata": {},
   "outputs": [
    {
     "ename": "IndexError",
     "evalue": "too many indices for array",
     "output_type": "error",
     "traceback": [
      "\u001b[1;31m---------------------------------------------------------------------------\u001b[0m",
      "\u001b[1;31mIndexError\u001b[0m                                Traceback (most recent call last)",
      "\u001b[1;32m<ipython-input-176-b2a9c840be65>\u001b[0m in \u001b[0;36m<module>\u001b[1;34m()\u001b[0m\n\u001b[1;32m----> 1\u001b[1;33m \u001b[0mLBOTE_English_home\u001b[0m\u001b[1;33m[\u001b[0m\u001b[1;33m:\u001b[0m\u001b[1;33m,\u001b[0m\u001b[1;36m1\u001b[0m\u001b[1;33m]\u001b[0m\u001b[1;33m\u001b[0m\u001b[0m\n\u001b[0m",
      "\u001b[1;31mIndexError\u001b[0m: too many indices for array"
     ]
    }
   ],
   "source": [
    "LBOTE_English_home[:,1]"
   ]
  },
  {
   "cell_type": "code",
   "execution_count": 202,
   "metadata": {},
   "outputs": [
    {
     "data": {
      "text/plain": [
       "[<matplotlib.lines.Line2D at 0x12fa49b0>]"
      ]
     },
     "execution_count": 202,
     "metadata": {},
     "output_type": "execute_result"
    },
    {
     "data": {
      "image/png": "[encoded data removed]",
      "text/plain": [
       "<matplotlib.figure.Figure at 0x1267ce48>"
      ]
     },
     "metadata": {},
     "output_type": "display_data"
    }
   ],
   "source": [
    "fig = matplotlib.pyplot.figure(figsize=(15.0, 10.0))\n",
    "\n",
    "axes1 = fig.add_subplot(2,2,1)\n",
    "axes2 = fig.add_subplot(2,2,2)\n",
    "axes3 = fig.add_subplot(2,2,3)\n",
    "axes4 = fig.add_subplot(2,2,4)\n",
    "\n",
    "axes1.set_xlabel('Years')\n",
    "axes1.set_ylabel('LBOTE - Speak mainly English at home')\n",
    "axes1.plot(years, LBOTE_English_home)\n",
    "\n",
    "axes2.set_xlabel('Years')\n",
    "axes2.set_ylabel('LBOTE - Speak mainly not English at home')\n",
    "axes2.plot(years, LBOTE_NotEnglish_home)\n",
    "\n",
    "axes3.set_xlabel('Years')\n",
    "axes3.set_ylabel('Total percent of students who do speak english at home')\n",
    "axes3.set_ylim(bottom=0, top=100)\n",
    "axes3.plot(years,percent)\n",
    "\n",
    "axes4.set_xlabel('Years')\n",
    "axes4.set_ylabel('Total percent of students who do not speak english at home')\n",
    "axes4.set_ylim(bottom=0, top=100)\n",
    "axes4.plot(years,not_percent)\n",
    "\n",
    "\n"
   ]
  },
  {
   "cell_type": "code",
   "execution_count": 205,
   "metadata": {
    "collapsed": true
   },
   "outputs": [],
   "source": [
    "def fahr_to_kelvin(temp):\n",
    "    return ((temp - 32) * (5/9)) + 273.15\n",
    "#return is to give result to whoever asked for it"
   ]
  },
  {
   "cell_type": "code",
   "execution_count": 206,
   "metadata": {},
   "outputs": [
    {
     "data": {
      "text/plain": [
       "277.59444444444443"
      ]
     },
     "execution_count": 206,
     "metadata": {},
     "output_type": "execute_result"
    }
   ],
   "source": [
    "fahr_to_kelvin(40)"
   ]
  },
  {
   "cell_type": "code",
   "execution_count": 207,
   "metadata": {},
   "outputs": [
    {
     "name": "stdout",
     "output_type": "stream",
     "text": [
      "freezing point of water 273.15\n",
      "boiling point of water 373.15\n"
     ]
    }
   ],
   "source": [
    "print('freezing point of water', fahr_to_kelvin(32))\n",
    "print('boiling point of water', fahr_to_kelvin(212))\n"
   ]
  },
  {
   "cell_type": "code",
   "execution_count": 210,
   "metadata": {},
   "outputs": [
    {
     "name": "stdout",
     "output_type": "stream",
     "text": [
      "2\n"
     ]
    }
   ],
   "source": [
    "print(4//2)"
   ]
  },
  {
   "cell_type": "code",
   "execution_count": 214,
   "metadata": {},
   "outputs": [
    {
     "name": "stdout",
     "output_type": "stream",
     "text": [
      "absolute zero in celsius: -273.15\n"
     ]
    }
   ],
   "source": [
    "def kelvin_to_celsius(temp_k):\n",
    "    return temp_k - 273.15\n",
    "print('absolute zero in celsius:', kelvin_to_celsius(0.0))"
   ]
  },
  {
   "cell_type": "code",
   "execution_count": 216,
   "metadata": {},
   "outputs": [
    {
     "name": "stdout",
     "output_type": "stream",
     "text": [
      "freezing point of water in Celsius: 0.0\n"
     ]
    }
   ],
   "source": [
    "def fahr_to_celsius(temp_f):\n",
    "    temp_k = fahr_to_kelvin(temp_f)\n",
    "    result = kelvin_to_celsius(temp_k)\n",
    "    return result\n",
    "\n",
    "print('freezing point of water in Celsius:', fahr_to_celsius(32.0))"
   ]
  },
  {
   "cell_type": "code",
   "execution_count": 217,
   "metadata": {
    "collapsed": true
   },
   "outputs": [],
   "source": [
    "def analyze(filename):\n",
    "    \n",
    "    data = numpy.loadtxt(fname=filename, delimiter=',')\n",
    "    \n",
    "    fig = matplotlib.pyplot.figure(figsize=(10.0,3.0))\n",
    "    \n",
    "    axes1 = fig.add_subplot(1, 3, 1)\n",
    "    axes2 = fig.add_subplot(1, 3, 2)\n",
    "    axes3 = fig.add_subplot(1, 3, 3)\n",
    "    \n",
    "    axes1.set_ylabel('average')\n",
    "    axes1.plot(numpy.mean(data, axis=0))\n",
    "    \n",
    "    \n",
    "    axes2.set_ylabel('max')\n",
    "    axes2.plot(numpy.max(data, axis=0))\n",
    "    \n",
    "    \n",
    "    axes3.set_ylabel('min')\n",
    "    axes3.plot(numpy.min(data, axis=0))\n",
    "    \n",
    "    fig.tight_layout()\n",
    "    matplotlib.pyplot.show()\n"
   ]
  },
  {
   "cell_type": "code",
   "execution_count": 254,
   "metadata": {
    "collapsed": true
   },
   "outputs": [],
   "source": [
    "def detect_problems(filename):\n",
    "    \n",
    "    data = numpy.loadtxt(fname=filename, delimiter=',')\n",
    "    \n",
    "    if numpy.max(data, axis=0)[0] == 0 and numpy.max(data, axis=0)[20] == 20:\n",
    "        print('Suspicious looking maxima!')\n",
    "    elif numpy.sum(numpy.min(data, axis=0)) == 0:\n",
    "        print('Minima add up to zero!')\n",
    "    else:\n",
    "        print('Seems ok!')"
   ]
  },
  {
   "cell_type": "code",
   "execution_count": 255,
   "metadata": {},
   "outputs": [
    {
     "name": "stdout",
     "output_type": "stream",
     "text": [
      "inflammation-01.csv\n"
     ]
    },
    {
     "data": {
      "image/png": "[encoded data removed]",
      "text/plain": [
       "<matplotlib.figure.Figure at 0x133a4f60>"
      ]
     },
     "metadata": {},
     "output_type": "display_data"
    },
    {
     "name": "stdout",
     "output_type": "stream",
     "text": [
      "Suspicious looking maxima!\n",
      "inflammation-02.csv\n"
     ]
    },
    {
     "data": {
      "image/png": "[encoded data removed]",
      "text/plain": [
       "<matplotlib.figure.Figure at 0x12a73cc0>"
      ]
     },
     "metadata": {},
     "output_type": "display_data"
    },
    {
     "name": "stdout",
     "output_type": "stream",
     "text": [
      "Suspicious looking maxima!\n",
      "inflammation-03.csv\n"
     ]
    },
    {
     "data": {
      "image/png": "[encoded data removed]",
      "text/plain": [
       "<matplotlib.figure.Figure at 0x13ab2320>"
      ]
     },
     "metadata": {},
     "output_type": "display_data"
    },
    {
     "name": "stdout",
     "output_type": "stream",
     "text": [
      "Minima add up to zero!\n"
     ]
    }
   ],
   "source": [
    "filenames = [\n",
    "    'inflammation-01.csv', \n",
    "    'inflammation-02.csv',\n",
    "    'inflammation-03.csv',\n",
    "]\n",
    "for f in filenames[:3]:\n",
    "    print(f)\n",
    "    analyze(f)\n",
    "    detect_problems(f)"
   ]
  },
  {
   "cell_type": "code",
   "execution_count": 221,
   "metadata": {
    "collapsed": true
   },
   "outputs": [],
   "source": [
    "# center(data,desired): return a new array containing the original data centered around the desired value\n",
    "def center(data, desired):\n",
    "    return (data - numpy.mean(data)) + desired"
   ]
  },
  {
   "cell_type": "code",
   "execution_count": 222,
   "metadata": {},
   "outputs": [
    {
     "name": "stdout",
     "output_type": "stream",
     "text": [
      "[[ 3.  3.]\n",
      " [ 3.  3.]]\n"
     ]
    }
   ],
   "source": [
    "z = numpy.zeros((2,2))\n",
    "print(center(z,3))"
   ]
  },
  {
   "cell_type": "code",
   "execution_count": 224,
   "metadata": {},
   "outputs": [
    {
     "name": "stdout",
     "output_type": "stream",
     "text": [
      "[[-6.14875 -6.14875 -5.14875 ..., -3.14875 -6.14875 -6.14875]\n",
      " [-6.14875 -5.14875 -4.14875 ..., -5.14875 -6.14875 -5.14875]\n",
      " [-6.14875 -5.14875 -5.14875 ..., -4.14875 -5.14875 -5.14875]\n",
      " ..., \n",
      " [-6.14875 -5.14875 -5.14875 ..., -5.14875 -5.14875 -5.14875]\n",
      " [-6.14875 -6.14875 -6.14875 ..., -6.14875 -4.14875 -6.14875]\n",
      " [-6.14875 -6.14875 -5.14875 ..., -5.14875 -5.14875 -6.14875]]\n"
     ]
    }
   ],
   "source": [
    "data = numpy.loadtxt(fname='inflammation-01.csv', delimiter=',')\n",
    "print(center(data, 0))"
   ]
  },
  {
   "cell_type": "code",
   "execution_count": 228,
   "metadata": {},
   "outputs": [
    {
     "name": "stdout",
     "output_type": "stream",
     "text": [
      "original min, mean, and max are: 0.0 6.14875 20.0\n",
      "min, mean, and max of centered data are: -6.14875 2.84217094304e-16 13.85125\n"
     ]
    }
   ],
   "source": [
    "print('original min, mean, and max are:', numpy.min(data), numpy.mean(data), numpy.max(data))\n",
    "centered = center(data, 0)\n",
    "print('min, mean, and max of centered data are:', numpy.min(centered), numpy.mean(centered), numpy.max(centered))"
   ]
  },
  {
   "cell_type": "code",
   "execution_count": 230,
   "metadata": {},
   "outputs": [
    {
     "name": "stdout",
     "output_type": "stream",
     "text": [
      "std dev before and after: 4.61383319712 4.61383319712\n"
     ]
    }
   ],
   "source": [
    "print('std dev before and after:', numpy.std(data), numpy.std(centered))"
   ]
  },
  {
   "cell_type": "code",
   "execution_count": 231,
   "metadata": {},
   "outputs": [
    {
     "name": "stdout",
     "output_type": "stream",
     "text": [
      "difference in standard deviations before and after: 0.0\n"
     ]
    }
   ],
   "source": [
    "print('difference in standard deviations before and after:', numpy.std(data)\n",
    "     - numpy.std(centered))"
   ]
  },
  {
   "cell_type": "code",
   "execution_count": 235,
   "metadata": {},
   "outputs": [
    {
     "name": "stdout",
     "output_type": "stream",
     "text": [
      "no parameters:\n",
      "a: 1 b: 2 c: 3\n",
      "one parameter:\n",
      "a: 55 b: 2 c: 3\n",
      "two parameters:\n",
      "a: 55 b: 66 c: 3\n"
     ]
    }
   ],
   "source": [
    "def display(a=1, b=2, c=3):\n",
    "   print('a:', a, 'b:', b, 'c:', c)\n",
    "\n",
    "print('no parameters:')\n",
    "display()\n",
    "print('one parameter:')\n",
    "display(55)\n",
    "print('two parameters:')\n",
    "display(55,66)"
   ]
  },
  {
   "cell_type": "code",
   "execution_count": 236,
   "metadata": {},
   "outputs": [
    {
     "name": "stdout",
     "output_type": "stream",
     "text": [
      "only setting the value of c\n",
      "a: 1 b: 2 c: 77\n"
     ]
    }
   ],
   "source": [
    "print('only setting the value of c')\n",
    "display(c=77)"
   ]
  },
  {
   "cell_type": "code",
   "execution_count": 246,
   "metadata": {},
   "outputs": [
    {
     "name": "stdout",
     "output_type": "stream",
     "text": [
      "0\n",
      "259.81666666666666\n",
      "278.15\n",
      "273.15\n",
      "0\n"
     ]
    }
   ],
   "source": [
    "f = 0\n",
    "k = 0\n",
    "\n",
    "def f2k(f):\n",
    "  k = ((f-32)*(5.0/9.0)) + 273.15\n",
    "  return k\n",
    "print(f2k(8))\n",
    "print(f2k(41))\n",
    "print(f2k(32))\n",
    "\n",
    "print(k)"
   ]
  },
  {
   "cell_type": "code",
   "execution_count": 248,
   "metadata": {},
   "outputs": [
    {
     "name": "stdout",
     "output_type": "stream",
     "text": [
      "strawberry\n"
     ]
    }
   ],
   "source": [
    "# This code has an intentional error. You can type it directly or\n",
    "# use it for reference to understand the error message below.\n",
    "def favorite_ice_cream():\n",
    "    ice_creams = [\n",
    "        \"chocolate\",\n",
    "        \"vanilla\",\n",
    "        \n",
    "        \"strawberry\"\n",
    "    ]\n",
    "    print(ice_creams[2])\n",
    "\n",
    "favorite_ice_cream()"
   ]
  },
  {
   "cell_type": "code",
   "execution_count": 250,
   "metadata": {},
   "outputs": [
    {
     "name": "stdout",
     "output_type": "stream",
     "text": [
      "7 3\n"
     ]
    }
   ],
   "source": [
    "a = 3\n",
    "b = 7\n",
    "\n",
    "def swap(a, b):\n",
    "    temp = a\n",
    "    a = b\n",
    "    b = temp\n",
    "    return a, b\n",
    "\n",
    "a, b = swap(a, b)\n",
    "\n",
    "print(a, b)"
   ]
  },
  {
   "cell_type": "code",
   "execution_count": 273,
   "metadata": {},
   "outputs": [],
   "source": [
    "def csv_to_array(fileN):\n",
    "    fileN = pandas.read_csv('Lbote.csv', thousands=',')\n",
    "    return fileN\n",
    "    \n"
   ]
  },
  {
   "cell_type": "code",
   "execution_count": 274,
   "metadata": {},
   "outputs": [
    {
     "data": {
      "text/html": [
       "<div>\n",
       "<style>\n",
       "    .dataframe thead tr:only-child th {\n",
       "        text-align: right;\n",
       "    }\n",
       "\n",
       "    .dataframe thead th {\n",
       "        text-align: left;\n",
       "    }\n",
       "\n",
       "    .dataframe tbody tr th {\n",
       "        vertical-align: top;\n",
       "    }\n",
       "</style>\n",
       "<table border=\"1\" class=\"dataframe\">\n",
       "  <thead>\n",
       "    <tr style=\"text-align: right;\">\n",
       "      <th></th>\n",
       "      <th>Year</th>\n",
       "      <th>Students language background other than English-Speak mainly English at home</th>\n",
       "      <th>Students language background other than English-Does not speak mainly English at home</th>\n",
       "      <th>Total students language background other than English</th>\n",
       "    </tr>\n",
       "  </thead>\n",
       "  <tbody>\n",
       "    <tr>\n",
       "      <th>0</th>\n",
       "      <td>2007</td>\n",
       "      <td>33423</td>\n",
       "      <td>79801</td>\n",
       "      <td>113224</td>\n",
       "    </tr>\n",
       "    <tr>\n",
       "      <th>1</th>\n",
       "      <td>2008</td>\n",
       "      <td>35539</td>\n",
       "      <td>82800</td>\n",
       "      <td>118339</td>\n",
       "    </tr>\n",
       "    <tr>\n",
       "      <th>2</th>\n",
       "      <td>2009</td>\n",
       "      <td>37414</td>\n",
       "      <td>86089</td>\n",
       "      <td>123503</td>\n",
       "    </tr>\n",
       "    <tr>\n",
       "      <th>3</th>\n",
       "      <td>2010</td>\n",
       "      <td>39007</td>\n",
       "      <td>88968</td>\n",
       "      <td>127975</td>\n",
       "    </tr>\n",
       "    <tr>\n",
       "      <th>4</th>\n",
       "      <td>2011</td>\n",
       "      <td>40958</td>\n",
       "      <td>91686</td>\n",
       "      <td>132644</td>\n",
       "    </tr>\n",
       "    <tr>\n",
       "      <th>5</th>\n",
       "      <td>2012</td>\n",
       "      <td>43545</td>\n",
       "      <td>94760</td>\n",
       "      <td>138305</td>\n",
       "    </tr>\n",
       "    <tr>\n",
       "      <th>6</th>\n",
       "      <td>2013</td>\n",
       "      <td>46141</td>\n",
       "      <td>99228</td>\n",
       "      <td>145369</td>\n",
       "    </tr>\n",
       "    <tr>\n",
       "      <th>7</th>\n",
       "      <td>2014</td>\n",
       "      <td>48961</td>\n",
       "      <td>104266</td>\n",
       "      <td>153227</td>\n",
       "    </tr>\n",
       "    <tr>\n",
       "      <th>8</th>\n",
       "      <td>2015</td>\n",
       "      <td>52357</td>\n",
       "      <td>109344</td>\n",
       "      <td>161701</td>\n",
       "    </tr>\n",
       "    <tr>\n",
       "      <th>9</th>\n",
       "      <td>2016</td>\n",
       "      <td>56409</td>\n",
       "      <td>115927</td>\n",
       "      <td>172336</td>\n",
       "    </tr>\n",
       "  </tbody>\n",
       "</table>\n",
       "</div>"
      ],
      "text/plain": [
       "   Year  \\\n",
       "0  2007   \n",
       "1  2008   \n",
       "2  2009   \n",
       "3  2010   \n",
       "4  2011   \n",
       "5  2012   \n",
       "6  2013   \n",
       "7  2014   \n",
       "8  2015   \n",
       "9  2016   \n",
       "\n",
       "   Students language background other than English-Speak mainly English at home  \\\n",
       "0                                              33423                              \n",
       "1                                              35539                              \n",
       "2                                              37414                              \n",
       "3                                              39007                              \n",
       "4                                              40958                              \n",
       "5                                              43545                              \n",
       "6                                              46141                              \n",
       "7                                              48961                              \n",
       "8                                              52357                              \n",
       "9                                              56409                              \n",
       "\n",
       "   Students language background other than English-Does not speak mainly English at home  \\\n",
       "0                                              79801                                       \n",
       "1                                              82800                                       \n",
       "2                                              86089                                       \n",
       "3                                              88968                                       \n",
       "4                                              91686                                       \n",
       "5                                              94760                                       \n",
       "6                                              99228                                       \n",
       "7                                             104266                                       \n",
       "8                                             109344                                       \n",
       "9                                             115927                                       \n",
       "\n",
       "   Total students language background other than English  \n",
       "0                                             113224      \n",
       "1                                             118339      \n",
       "2                                             123503      \n",
       "3                                             127975      \n",
       "4                                             132644      \n",
       "5                                             138305      \n",
       "6                                             145369      \n",
       "7                                             153227      \n",
       "8                                             161701      \n",
       "9                                             172336      "
      ]
     },
     "execution_count": 274,
     "metadata": {},
     "output_type": "execute_result"
    }
   ],
   "source": [
    "csv_to_array('Lbote.csv')"
   ]
  },
  {
   "cell_type": "code",
   "execution_count": 304,
   "metadata": {},
   "outputs": [
    {
     "data": {
      "text/plain": [
       "array([[  2007,  33423,  79801, 113224],\n",
       "       [  2008,  35539,  82800, 118339],\n",
       "       [  2009,  37414,  86089, 123503],\n",
       "       [  2010,  39007,  88968, 127975],\n",
       "       [  2011,  40958,  91686, 132644],\n",
       "       [  2012,  43545,  94760, 138305],\n",
       "       [  2013,  46141,  99228, 145369],\n",
       "       [  2014,  48961, 104266, 153227],\n",
       "       [  2015,  52357, 109344, 161701],\n",
       "       [  2016,  56409, 115927, 172336]], dtype=int64)"
      ]
     },
     "execution_count": 304,
     "metadata": {},
     "output_type": "execute_result"
    }
   ],
   "source": [
    "fileN = csv_to_array('fileN')\n",
    "fileN.dtypes\n",
    "fileN= fileN.as_matrix()\n",
    "fileN\n"
   ]
  },
  {
   "cell_type": "code",
   "execution_count": null,
   "metadata": {
    "collapsed": true
   },
   "outputs": [],
   "source": []
  }
 ],
 "metadata": {
  "kernelspec": {
   "display_name": "Python 3",
   "language": "python",
   "name": "python3"
  },
  "language_info": {
   "codemirror_mode": {
    "name": "ipython",
    "version": 3
   },
   "file_extension": ".py",
   "mimetype": "text/x-python",
   "name": "python",
   "nbconvert_exporter": "python",
   "pygments_lexer": "ipython3",
   "version": "3.6.2"
  }
 },
 "nbformat": 4,
 "nbformat_minor": 2
}
